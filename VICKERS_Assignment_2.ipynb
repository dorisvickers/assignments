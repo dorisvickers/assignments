{
 "cells": [
  {
   "cell_type": "markdown",
   "metadata": {},
   "source": [
    "## Second Assignment"
   ]
  },
  {
   "cell_type": "markdown",
   "metadata": {},
   "source": [
    "#### 1) Create a function called **\"even_squared\"** that receives an integer value **N**, and returns a list containing, in ascending order, the square of each of the even values, from 1 to N, including N if applicable. "
   ]
  },
  {
   "cell_type": "code",
   "execution_count": 1,
   "metadata": {},
   "outputs": [
    {
     "name": "stdout",
     "output_type": "stream",
     "text": [
      "[4, 16, 36, 64, 100, 144, 196, 256, 324, 400, 484, 576]\n"
     ]
    }
   ],
   "source": [
    "def even_squared(N):\n",
    "    # Creates a function called \"even_squared\" that receives a number N, \n",
    "    # and returns a list containing the square of each of the even values \n",
    "    # in ascending order, from 1 to N, including N (if applicable).\n",
    "    return [x**2 for x in range(2,N+1,2)]\n",
    "print(even_squared(24))"
   ]
  },
  {
   "cell_type": "markdown",
   "metadata": {},
   "source": [
    "#### 2) Using a while loop and the **input()** function, read an indefinite amount of **integers** until the number read is **-1**. After this process, print two lists on the screen: The first containing the even integers, and the second containing the odd integers. Both must be in ascending order. "
   ]
  },
  {
   "cell_type": "code",
   "execution_count": 11,
   "metadata": {},
   "outputs": [
    {
     "name": "stdout",
     "output_type": "stream",
     "text": [
      "Please enter several numbers and hit Enter after each one. If you type -1, the even and odd numbers will be displayed: 1\n",
      "Please enter several numbers and hit Enter after each one. If you type -1, the even and odd numbers will be displayed: 3\n",
      "Please enter several numbers and hit Enter after each one. If you type -1, the even and odd numbers will be displayed: 5\n",
      "Please enter several numbers and hit Enter after each one. If you type -1, the even and odd numbers will be displayed: 7\n",
      "Please enter several numbers and hit Enter after each one. If you type -1, the even and odd numbers will be displayed: 98\n",
      "Please enter several numbers and hit Enter after each one. If you type -1, the even and odd numbers will be displayed: -1\n",
      "[98]\n",
      "[1, 3, 5, 7]\n"
     ]
    }
   ],
   "source": [
    "even, odd = [], []\n",
    "while 1:\n",
    "    number_read = int(input(\"Please enter several numbers and hit Enter after each one. If you type -1, the even and odd numbers will be displayed separately: \"))\n",
    "    if number_read == -1:\n",
    "        break\n",
    "    if number_read%2:\n",
    "        odd.append(number_read)\n",
    "    else:\n",
    "        even.append(number_read)\n",
    "print(sorted(even))\n",
    "print(sorted(odd))"
   ]
  },
  {
   "cell_type": "markdown",
   "metadata": {},
   "source": [
    "#### 3) Create a function called **\"even_account\"** that receives a list of integers, counts the number of existing even elements, and returns this count. "
   ]
  },
  {
   "cell_type": "code",
   "execution_count": 12,
   "metadata": {},
   "outputs": [
    {
     "name": "stdout",
     "output_type": "stream",
     "text": [
      "6\n"
     ]
    }
   ],
   "source": [
    "def even_account(l):\n",
    "    # Receives a list of numbers, counts the number of existing even elements, \n",
    "    # and returns this count.\n",
    "    return len(list(filter(lambda x:x%2==0,l)))\n",
    "print(even_account([1,2,3,5,6,9,16,18,22,25,69,156]))"
   ]
  },
  {
   "cell_type": "markdown",
   "metadata": {},
   "source": [
    "#### 4) Create a function called **\"squared_list\"** that receives a list of integers and returns another list whose elements are the squares of the elements of the first. "
   ]
  },
  {
   "cell_type": "code",
   "execution_count": 4,
   "metadata": {},
   "outputs": [
    {
     "name": "stdout",
     "output_type": "stream",
     "text": [
      "[1, 4, 9, 25, 36, 81]\n"
     ]
    }
   ],
   "source": [
    "def squared_list(l):\n",
    "    # Receives a list of numbers and returns another list \n",
    "    # whose elements are the squares of the elements of the first.\n",
    "    return list(map(lambda x: x**2, l))\n",
    "print(squared_list([1,2,3,5,6,9]))"
   ]
  },
  {
   "cell_type": "markdown",
   "metadata": {},
   "source": [
    "#### 5) Create a function called **\"descending\"** that receives two lists of integers and returns a single list, which contains all the elements in descending order, and may include repeated elements. "
   ]
  },
  {
   "cell_type": "code",
   "execution_count": 5,
   "metadata": {},
   "outputs": [
    {
     "name": "stdout",
     "output_type": "stream",
     "text": [
      "[10, 9, 8, 7, 6, 6, 5, 4, 3, 2, 1]\n"
     ]
    }
   ],
   "source": [
    "def descending(A,B):\n",
    "    # Receives two lists of numbers and returns a single list, \n",
    "    # which contains all the elements in descending order, \n",
    "    # and may include repeated elements.\n",
    "    C = A + B\n",
    "    C.sort(reverse=True)\n",
    "    return C\n",
    "print(descending([1,2,3,4,5,6],[6,7,8,9,10]))"
   ]
  },
  {
   "cell_type": "markdown",
   "metadata": {},
   "source": [
    "#### 6) Create a function called **\"adding\"** that receives a list **A**, and an arbitrary number of integers as input. Return a new list containing the elements of **A** plus the integers passed as input, in the order in which they were given. Here is an example: \n",
    "\n",
    ">```python\n",
    ">>>> A = [10,20,30]\n",
    ">>>> adding(A, 4, 10, 50, 1)\n",
    "> [10, 20, 30, 4, 10, 50, 1]\n",
    "```"
   ]
  },
  {
   "cell_type": "code",
   "execution_count": 6,
   "metadata": {},
   "outputs": [
    {
     "name": "stdout",
     "output_type": "stream",
     "text": [
      "[1, 2, 3, 4, 5, 6, 7, 8, 9, 10, 11, 12]\n"
     ]
    }
   ],
   "source": [
    "def adding(A,*integers):\n",
    "    # Returns a new list containing the elements of A plus the numbers \n",
    "    # passed as input, in the order in which they were given.\n",
    "    A.extend(integers)\n",
    "    return A\n",
    "\n",
    "print(adding([1,2,3,4,5,6],7,8,9,10,11,12))"
   ]
  },
  {
   "cell_type": "markdown",
   "metadata": {},
   "source": [
    "#### 7) Create a function called **\"intersection\"** that receives two input lists and returns another list with the values that belong to the two lists simultaneously (intersection) without repetition of values and in ascending order. Use only lists (do not use sets); loops and conditionals. See the example: \n",
    "\n",
    ">```python\n",
    ">>>> A = [-2, 0, 1, 2, 3]\n",
    ">>>> B = [-1, 2, 3, 6, 8]\n",
    ">>>> intersection(A,B)\n",
    "> [2, 3]\n",
    "```"
   ]
  },
  {
   "cell_type": "code",
   "execution_count": 7,
   "metadata": {},
   "outputs": [
    {
     "name": "stdout",
     "output_type": "stream",
     "text": [
      "[3, 4, 5]\n"
     ]
    }
   ],
   "source": [
    "def intersection(A,B):\n",
    "    # Receives two input lists and returns another list with the values \n",
    "    # that belong to the two lists simultaneously (intersection) \n",
    "    # without repetition of values and in ascending order.\n",
    "    C = [value for value in A if value in B]\n",
    "    res = []\n",
    "    [res.append(x) for x in C if x not in res]\n",
    "    return sorted(res)\n",
    "print(intersection([1,2,3,4,5],[3,4,5,6,7]))\n",
    "    "
   ]
  },
  {
   "cell_type": "markdown",
   "metadata": {},
   "source": [
    "#### 8) Create a function called **\"union\"** that receives two input lists and returns another list with the union of the elements of the two received, without repetition of elements and in ascending order. Use only lists (do not use sets); loops and conditionals. See the example: \n",
    "\n",
    ">```python\n",
    ">>>> A = [-2, 0, 1, 2]\n",
    ">>>> B = [-1, 1, 2, 10]\n",
    ">>>> union(A,B)\n",
    "> [-2, ,-1, 0, 1, 2, 10]\n",
    "```"
   ]
  },
  {
   "cell_type": "code",
   "execution_count": 8,
   "metadata": {},
   "outputs": [
    {
     "name": "stdout",
     "output_type": "stream",
     "text": [
      "[1, 2, 3, 4, 5, 6, 7]\n"
     ]
    }
   ],
   "source": [
    "def union(A,B):\n",
    "    # Receives two input lists and returns another list with the union \n",
    "    # of the elements of the two received, without repetition of elements \n",
    "    # and in ascending order.\n",
    "    C = A + B\n",
    "    res = []\n",
    "    [res.append(x) for x in C if x not in res]\n",
    "    return sorted(res)\n",
    "print(union([1,2,3,4,5],[3,4,5,6,7]))"
   ]
  },
  {
   "cell_type": "markdown",
   "metadata": {},
   "source": [
    "#### 9) Generalize the **\"intersection\"** function so that it receives an indefinite number of lists and returns the intersection of all of them. Call the new function **intersection2**. "
   ]
  },
  {
   "cell_type": "code",
   "execution_count": 13,
   "metadata": {},
   "outputs": [
    {
     "name": "stdout",
     "output_type": "stream",
     "text": [
      "[4]\n"
     ]
    }
   ],
   "source": [
    "import functools\n",
    "\n",
    "def intersection2(*lists):\n",
    "    # Receives an indefinite number of lists and returns the intersection \n",
    "    # of all of them. The new function is called intersection2.\n",
    "    \n",
    "    l1 = lists[0]\n",
    "    for l2 in lists:\n",
    "        l1 = list(set(l1) & set(l2))\n",
    "    return l1\n",
    "\n",
    "print(intersection2([1,2,3,4,5],[1,2,4,8,16],[4,5,6,7,8],[3,4,6,8,10]))"
   ]
  },
  {
   "cell_type": "markdown",
   "metadata": {},
   "source": [
    "## Challenge\n",
    "\n",
    "#### 10) Create a function named **\"matrix\"** that implements matrix multiplication:\n",
    "    \n",
    "Given the matrices:\n",
    "    \n",
    "$A_{m\\times n}=\n",
    "\\left[\\begin{matrix}\n",
    "a_{11}&a_{12}&...&a_{1n}\\\\\n",
    "a_{21}&a_{22}&...&a_{2n}\\\\\n",
    "\\vdots &\\vdots &&\\vdots\\\\\n",
    "a_{m1}&a_{m2}&...&a_{mn}\\\\\n",
    "\\end{matrix}\\right]$\n",
    "    \n",
    "We will represent then as a list of lists.\n",
    "\n",
    "$A = [[a_{11},a_{12},...,a_{1n}],[a_{21},a_{22},...,a_{2n}], . . . ,[a_{m1},a_{m2},...,a_{mn}]]$\n",
    "\n",
    "The **\"matrix\"** funtion must receive two matrices $A$ e $B$ in the specified format and return $A\\times B$"
   ]
  },
  {
   "cell_type": "code",
   "execution_count": null,
   "metadata": {},
   "outputs": [],
   "source": [
    "def matrix():\n",
    "    import numpy as np\n",
    "    A = np.array(input(\"Please enter matrix A {format:[[], [], []]}: \"))\n",
    "    B = np.array(input(\"Please enter matrix B {format:[[], [], []]}: \"))\n",
    "    C = np.matmul(A,B)\n",
    "    print(c)\n",
    "\n",
    "matrix()\n"
   ]
  },
  {
   "cell_type": "code",
   "execution_count": null,
   "metadata": {},
   "outputs": [],
   "source": []
  }
 ],
 "metadata": {
  "kernelspec": {
   "display_name": "Python 3",
   "language": "python",
   "name": "python3"
  },
  "language_info": {
   "codemirror_mode": {
    "name": "ipython",
    "version": 3
   },
   "file_extension": ".py",
   "mimetype": "text/x-python",
   "name": "python",
   "nbconvert_exporter": "python",
   "pygments_lexer": "ipython3",
   "version": "3.8.8"
  }
 },
 "nbformat": 4,
 "nbformat_minor": 4
}
