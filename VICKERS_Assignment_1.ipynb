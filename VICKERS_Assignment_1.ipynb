{
 "cells": [
  {
   "cell_type": "markdown",
   "metadata": {},
   "source": [
    "## First Assignment"
   ]
  },
  {
   "cell_type": "markdown",
   "metadata": {},
   "source": [
    "#### 1) Apply the appropriate string methods to the **x** variable (as '.upper') to change it exactly to: \"$Dichlorodiphenyltrichloroethane$\"."
   ]
  },
  {
   "cell_type": "code",
   "execution_count": 1,
   "metadata": {},
   "outputs": [],
   "source": [
    "x = \"DiClOrod  IFeNi  lTRicLOr oETaNo  DiChlorod iPHeny lTrichL oroEThaNe\""
   ]
  },
  {
   "cell_type": "code",
   "execution_count": 2,
   "metadata": {},
   "outputs": [
    {
     "name": "stdout",
     "output_type": "stream",
     "text": [
      "Dichlorodiphenyltrichloroethane\n"
     ]
    }
   ],
   "source": [
    "answer = x[x.find('DiChl'):].replace(\" \",\"\").capitalize()\n",
    "print(answer)"
   ]
  },
  {
   "cell_type": "markdown",
   "metadata": {},
   "source": [
    "#### 2) Assign respectively the values: 'word', 15, 3.14 and 'list' to variables A, B, C and D in a single line of code. Then, print them in that same order on a single line separated by a space, using only one print statement."
   ]
  },
  {
   "cell_type": "code",
   "execution_count": 3,
   "metadata": {},
   "outputs": [
    {
     "name": "stdout",
     "output_type": "stream",
     "text": [
      "word 15 3.14 list\n"
     ]
    }
   ],
   "source": [
    "A, B, C, D = 'word', 15, 3.14, 'list'\n",
    "print(f\"{A} {B} {C} {D}\")"
   ]
  },
  {
   "cell_type": "markdown",
   "metadata": {},
   "source": [
    "#### 3) Use the **input()** function to receive an input in the form **'68.4 1.71'**, that is, two floating point numbers in a line separated by space. Then, assign these numbers to the variables **w** and **h** respectively, which represent an individual's weight and height (hint: take a look at the '.split()' method). With this data, calculate the individual's Body Mass Index (BMI) from the following relationship: \n",
    "    \n",
    "\\begin{equation}\n",
    "BMI = \\dfrac{weight}{height^2}\n",
    "\\end{equation}"
   ]
  },
  {
   "cell_type": "code",
   "execution_count": 4,
   "metadata": {},
   "outputs": [
    {
     "name": "stdout",
     "output_type": "stream",
     "text": [
      "Please enter your weight in kilograms and height in metres: 60 1.75\n",
      "19.591836734693878\n"
     ]
    }
   ],
   "source": [
    "w,h = input(\"Please enter your weight in kilograms and height in metres: \").split()\n",
    "BMI = float(w)/float(h)**2\n",
    "print(BMI)"
   ]
  },
  {
   "cell_type": "markdown",
   "metadata": {},
   "source": [
    "#### This value can also be classified according to ranges of values, following to the table below. Use conditional structures to classify and print the classification assigned to the individual. \n",
    "\n",
    "<center><img src=\"https://healthtravelguide.com/wp-content/uploads/2020/06/Body-mass-index-table.png\" width=\"30%\"><\\center>  \n",
    "\n",
    "\n",
    "(source: https://healthtravelguide.com/bmi-calculator/)"
   ]
  },
  {
   "cell_type": "code",
   "execution_count": 5,
   "metadata": {},
   "outputs": [
    {
     "name": "stdout",
     "output_type": "stream",
     "text": [
      "normal weight\n"
     ]
    }
   ],
   "source": [
    "if BMI <= 18.5:\n",
    "    print(\"underweight\")\n",
    "elif BMI <= 24.9:\n",
    "    print(\"normal weight\")\n",
    "elif BMI <= 29.9:\n",
    "    print(\"pre-obesity\")\n",
    "elif BMI <= 34.9:\n",
    "    print(\"Obesity class 1\")\n",
    "elif BMI <= 39.9:\n",
    "    print(\"Obesity class 2\")\n",
    "else:\n",
    "    print(\"Obesity class 3\")"
   ]
  },
  {
   "cell_type": "markdown",
   "metadata": {},
   "source": [
    "#### 4) Receive an integer as an input and, using a loop, calculate the factorial of this number, that is, the product of all the integers from one to the number provided. "
   ]
  },
  {
   "cell_type": "code",
   "execution_count": 6,
   "metadata": {},
   "outputs": [
    {
     "name": "stdout",
     "output_type": "stream",
     "text": [
      "Please enter any integer: 12\n",
      "12! = 479001600\n"
     ]
    }
   ],
   "source": [
    "num = int(input(\"Please enter any integer: \"))\n",
    "fact = 1\n",
    "for i in range(1,num+1):\n",
    "    fact *= i \n",
    "print(f\"{num}! = {fact}\")"
   ]
  },
  {
   "cell_type": "markdown",
   "metadata": {},
   "source": [
    "#### 5) Using a while loop and the input function, read an indefinite number of integers until the number read is -1. Present the sum of all these numbers in the form of a print, excluding the -1 read at the end. "
   ]
  },
  {
   "cell_type": "code",
   "execution_count": 7,
   "metadata": {},
   "outputs": [
    {
     "name": "stdout",
     "output_type": "stream",
     "text": [
      "Please enter any integer: 56\n",
      "Please enter any integer: 55\n",
      "Please enter any integer: 79\n",
      "Please enter any integer: 35\n",
      "Please enter any integer: 57\n",
      "Please enter any integer: 1\n",
      "Please enter any integer: -1\n",
      "Sum of numbers = 283\n"
     ]
    }
   ],
   "source": [
    "sum_numbers, number = 0, 0\n",
    "while number != -1:\n",
    "    sum_numbers += number\n",
    "    number = int(input(\"Please enter any integer: \"))\n",
    "print(f\"Sum of numbers = {sum_numbers}\")"
   ]
  },
  {
   "cell_type": "markdown",
   "metadata": {},
   "source": [
    "#### 6) Read the **first name** of an employee, his **amount of hours worked** and the **salary per hour** in a single line separated by commas. Next, calculate the **total salary** for this employee and show it to two decimal places."
   ]
  },
  {
   "cell_type": "code",
   "execution_count": 8,
   "metadata": {},
   "outputs": [
    {
     "name": "stdout",
     "output_type": "stream",
     "text": [
      "Print name, sum of hours worked and salary per hour, separated by commas: Doris,30,200\n",
      "6000.00\n"
     ]
    }
   ],
   "source": [
    "emp_name, hours_wk, hours_sal = input(\"Please enter the name, sum of hours worked and salary per hour, separated by commas: \").split(\",\")\n",
    "total_sal = float(hours_wk)*float(hours_sal)\n",
    "print('{:.2f}'.format(total_sal))"
   ]
  },
  {
   "cell_type": "markdown",
   "metadata": {},
   "source": [
    "#### 7) Read three floating point values **A**, **B** and **C** respectively. Then calculate itens a, b, c, d and e: "
   ]
  },
  {
   "cell_type": "code",
   "execution_count": 9,
   "metadata": {},
   "outputs": [
    {
     "name": "stdout",
     "output_type": "stream",
     "text": [
      "Please enter A, B and C, separated by commas: 5,8,7\n"
     ]
    }
   ],
   "source": [
    "A, B, C = [float(x) for x in input(\"Please enter A, B and C, separated by commas: \").split(\",\")]"
   ]
  },
  {
   "cell_type": "markdown",
   "metadata": {},
   "source": [
    "    a) the area of the triangle rectangle with A as the base and C as the height."
   ]
  },
  {
   "cell_type": "code",
   "execution_count": 10,
   "metadata": {},
   "outputs": [
    {
     "name": "stdout",
     "output_type": "stream",
     "text": [
      "Area: 17.5\n"
     ]
    }
   ],
   "source": [
    "print(\"Area:\", A*C/2)"
   ]
  },
  {
   "cell_type": "markdown",
   "metadata": {},
   "source": [
    "    b) the area of the circle of radius C. (pi = 3.14159) "
   ]
  },
  {
   "cell_type": "code",
   "execution_count": 11,
   "metadata": {},
   "outputs": [
    {
     "name": "stdout",
     "output_type": "stream",
     "text": [
      "Area: 153.93791\n"
     ]
    }
   ],
   "source": [
    "print(\"Area:\", 3.14159*C**2)"
   ]
  },
  {
   "cell_type": "markdown",
   "metadata": {},
   "source": [
    "    c) the area of the trapezoid that has A and B for bases and C for height. "
   ]
  },
  {
   "cell_type": "code",
   "execution_count": 12,
   "metadata": {},
   "outputs": [
    {
     "name": "stdout",
     "output_type": "stream",
     "text": [
      "Area: 45.5\n"
     ]
    }
   ],
   "source": [
    "print(\"Area:\", (A+B)*C/2)"
   ]
  },
  {
   "cell_type": "markdown",
   "metadata": {},
   "source": [
    "    d) the area of the square that has side B. "
   ]
  },
  {
   "cell_type": "code",
   "execution_count": 13,
   "metadata": {},
   "outputs": [
    {
     "name": "stdout",
     "output_type": "stream",
     "text": [
      "Area: 64.0\n"
     ]
    }
   ],
   "source": [
    "print(\"Area:\", B**2)"
   ]
  },
  {
   "cell_type": "markdown",
   "metadata": {},
   "source": [
    "    e) the area of the rectangle that has sides A and B. "
   ]
  },
  {
   "cell_type": "code",
   "execution_count": 14,
   "metadata": {},
   "outputs": [
    {
     "name": "stdout",
     "output_type": "stream",
     "text": [
      "Area: 40.0\n"
     ]
    }
   ],
   "source": [
    "print(\"Area:\", A*B)"
   ]
  },
  {
   "cell_type": "markdown",
   "metadata": {},
   "source": [
    "#### 8) Read **the values a, b and c** and calculate the **roots of the second degree equation** $ax^{2}+bx+c=0$ using [this formula](https://en.wikipedia.org/wiki/Quadratic_equation). If it is not possible to calculate the roots, display the message **“There are no real roots”**. "
   ]
  },
  {
   "cell_type": "code",
   "execution_count": 15,
   "metadata": {},
   "outputs": [
    {
     "name": "stdout",
     "output_type": "stream",
     "text": [
      "Please enter a, b, c, separated by commas: 5,7,8\n",
      "There are no real roots.\n"
     ]
    }
   ],
   "source": [
    "a, b, c = [float(x) for x in input(\"Please enter a, b, c, separated by commas: \").split(\",\")]\n",
    "if a == 0:\n",
    "    print(\"'a' should not equal nil!\")\n",
    "else:\n",
    "    delta = (b**2) - (4*a*c)\n",
    "    if delta < 0:\n",
    "          print(\"There are no real roots.\")\n",
    "    elif delta == 0:\n",
    "          x = -b/(2*a)\n",
    "          print(f\"Root: {x}\")\n",
    "    else:\n",
    "          x1 = (-b+delta**0.5)/(2*a)\n",
    "          x2 = (-b-delta**0.5)/(2*a)\n",
    "          print(f\"Roots: {x1}, {x2}\")"
   ]
  },
  {
   "cell_type": "markdown",
   "metadata": {},
   "source": [
    "#### 9) Read four floating point numerical values corresponding to the coordinates of two geographical coordinates in the cartesian plane. Each point will come in a line with its coordinates separated by space. Then calculate and show the distance between these two points. \n",
    "\n",
    "(obs: $d=\\sqrt{(x_1-x_2)^2 + (y_1-y_2)^2}$)"
   ]
  },
  {
   "cell_type": "code",
   "execution_count": 16,
   "metadata": {},
   "outputs": [
    {
     "name": "stdout",
     "output_type": "stream",
     "text": [
      "Please enter the coordinates x1 and y1m separated by commas: 9,7\n",
      "Please enter the coordinates x2 and y2, separated by commas: 8,6\n",
      "d = 13.038404810405298\n"
     ]
    }
   ],
   "source": [
    "x1, y1 = [float(i) for i in input(\"Please enter the coordinates x1 and y1m separated by commas: \").split(\",\")]\n",
    "x2, y2 = [float(i) for i in input(\"Please enter the coordinates x2 and y2, separated by commas: \").split(\",\")]\n",
    "d = ((x1-x2)**2+(y1+y2)**2)**0.5\n",
    "print(f\"d = {d}\")"
   ]
  },
  {
   "cell_type": "markdown",
   "metadata": {},
   "source": [
    "#### 10) Read **two floating point numbers** on a line that represent **coordinates of a cartesian point**. With this, use **conditional structures** to determine if you are at the origin, printing the message **'origin'**; in one of the axes, printing **'x axis'** or **'y axis'**; or in one of the four quadrants, printing **'q1'**, **'q2**', **'q3'** or **'q4'**. "
   ]
  },
  {
   "cell_type": "code",
   "execution_count": 17,
   "metadata": {},
   "outputs": [
    {
     "name": "stdout",
     "output_type": "stream",
     "text": [
      "Please enter x and y, separated by commas6,8\n",
      "q1\n"
     ]
    }
   ],
   "source": [
    "x, y = [float(x) for x in input(\"Please enter x and y, separated by commas\").split(\",\")]\n",
    "\n",
    "if x == 0 and y == 0:\n",
    "    print('origin')\n",
    "elif x == 0:\n",
    "    print('y axis')\n",
    "elif y == 0:\n",
    "    print('x axis')\n",
    "elif x > 0 and y > 0:\n",
    "    print('q1')\n",
    "elif x > 0:\n",
    "    print('q2')\n",
    "elif y > 0:\n",
    "    print('q3')\n",
    "else:\n",
    "    print('q4')"
   ]
  },
  {
   "cell_type": "markdown",
   "metadata": {},
   "source": [
    "#### 11) Read an integer that represents a phone code for international dialing.  \n",
    "#### Then, inform to which country the code belongs to, considering the generated table below:\n",
    "(You just need to consider the first 10 entries)  "
   ]
  },
  {
   "cell_type": "code",
   "execution_count": 18,
   "metadata": {},
   "outputs": [
    {
     "data": {
      "text/html": [
       "<div>\n",
       "<style scoped>\n",
       "    .dataframe tbody tr th:only-of-type {\n",
       "        vertical-align: middle;\n",
       "    }\n",
       "\n",
       "    .dataframe tbody tr th {\n",
       "        vertical-align: top;\n",
       "    }\n",
       "\n",
       "    .dataframe thead th {\n",
       "        text-align: right;\n",
       "    }\n",
       "</style>\n",
       "<table border=\"1\" class=\"dataframe\">\n",
       "  <thead>\n",
       "    <tr style=\"text-align: right;\">\n",
       "      <th></th>\n",
       "      <th>Country</th>\n",
       "      <th>Country calling code</th>\n",
       "    </tr>\n",
       "  </thead>\n",
       "  <tbody>\n",
       "    <tr>\n",
       "      <th>0</th>\n",
       "      <td>Austria</td>\n",
       "      <td>43</td>\n",
       "    </tr>\n",
       "    <tr>\n",
       "      <th>1</th>\n",
       "      <td>Belgium</td>\n",
       "      <td>32</td>\n",
       "    </tr>\n",
       "    <tr>\n",
       "      <th>2</th>\n",
       "      <td>Bulgaria</td>\n",
       "      <td>359</td>\n",
       "    </tr>\n",
       "    <tr>\n",
       "      <th>3</th>\n",
       "      <td>Croatia</td>\n",
       "      <td>385</td>\n",
       "    </tr>\n",
       "    <tr>\n",
       "      <th>4</th>\n",
       "      <td>Cyprus</td>\n",
       "      <td>357</td>\n",
       "    </tr>\n",
       "    <tr>\n",
       "      <th>5</th>\n",
       "      <td>Czech Republic</td>\n",
       "      <td>420</td>\n",
       "    </tr>\n",
       "    <tr>\n",
       "      <th>6</th>\n",
       "      <td>Denmark</td>\n",
       "      <td>45</td>\n",
       "    </tr>\n",
       "    <tr>\n",
       "      <th>7</th>\n",
       "      <td>Estonia</td>\n",
       "      <td>372</td>\n",
       "    </tr>\n",
       "    <tr>\n",
       "      <th>8</th>\n",
       "      <td>Finland</td>\n",
       "      <td>358</td>\n",
       "    </tr>\n",
       "    <tr>\n",
       "      <th>9</th>\n",
       "      <td>France</td>\n",
       "      <td>33</td>\n",
       "    </tr>\n",
       "    <tr>\n",
       "      <th>10</th>\n",
       "      <td>Germany</td>\n",
       "      <td>49</td>\n",
       "    </tr>\n",
       "    <tr>\n",
       "      <th>11</th>\n",
       "      <td>Greece</td>\n",
       "      <td>30</td>\n",
       "    </tr>\n",
       "    <tr>\n",
       "      <th>12</th>\n",
       "      <td>Hungary</td>\n",
       "      <td>36</td>\n",
       "    </tr>\n",
       "    <tr>\n",
       "      <th>13</th>\n",
       "      <td>Iceland</td>\n",
       "      <td>354</td>\n",
       "    </tr>\n",
       "    <tr>\n",
       "      <th>14</th>\n",
       "      <td>Ireland</td>\n",
       "      <td>353</td>\n",
       "    </tr>\n",
       "    <tr>\n",
       "      <th>15</th>\n",
       "      <td>Italy</td>\n",
       "      <td>39</td>\n",
       "    </tr>\n",
       "    <tr>\n",
       "      <th>16</th>\n",
       "      <td>Latvia</td>\n",
       "      <td>371</td>\n",
       "    </tr>\n",
       "    <tr>\n",
       "      <th>17</th>\n",
       "      <td>Liechtenstein</td>\n",
       "      <td>423</td>\n",
       "    </tr>\n",
       "    <tr>\n",
       "      <th>18</th>\n",
       "      <td>Lithuania</td>\n",
       "      <td>370</td>\n",
       "    </tr>\n",
       "    <tr>\n",
       "      <th>19</th>\n",
       "      <td>Luxembourg</td>\n",
       "      <td>352</td>\n",
       "    </tr>\n",
       "  </tbody>\n",
       "</table>\n",
       "</div>"
      ],
      "text/plain": [
       "           Country Country calling code\n",
       "0          Austria                   43\n",
       "1          Belgium                   32\n",
       "2         Bulgaria                  359\n",
       "3          Croatia                  385\n",
       "4           Cyprus                  357\n",
       "5   Czech Republic                  420\n",
       "6          Denmark                   45\n",
       "7          Estonia                  372\n",
       "8          Finland                  358\n",
       "9           France                   33\n",
       "10         Germany                   49\n",
       "11          Greece                   30\n",
       "12         Hungary                   36\n",
       "13         Iceland                  354\n",
       "14         Ireland                  353\n",
       "15           Italy                   39\n",
       "16          Latvia                  371\n",
       "17   Liechtenstein                  423\n",
       "18       Lithuania                  370\n",
       "19      Luxembourg                  352"
      ]
     },
     "execution_count": 18,
     "metadata": {},
     "output_type": "execute_result"
    }
   ],
   "source": [
    "import pandas as pd\n",
    "df = pd.read_html('https://en.wikipedia.org/wiki/Telephone_numbers_in_Europe')[1]\n",
    "df = df.iloc[:,:2]\n",
    "df.head(20)"
   ]
  },
  {
   "cell_type": "code",
   "execution_count": 19,
   "metadata": {},
   "outputs": [
    {
     "name": "stdout",
     "output_type": "stream",
     "text": [
      "Please enter the dialling code:45\n",
      "This is the dialling code for Denmark.\n"
     ]
    }
   ],
   "source": [
    "code = int(input(\"Please enter the dialling code:\"))\n",
    "code_dict = {43:'This is the dialling code for Austria.',\n",
    "             32:'This is the dialling code for Belgium.',\n",
    "             359:'This is the dialling code for Bulgaria.',\n",
    "             385:'This is the dialling code for Croatia.',\n",
    "             357:'This is the dialling code for Cyprus.',\n",
    "             420:'This is the dialling code for Czech Republic.',\n",
    "             45:'This is the dialling code for Denmark.',\n",
    "             372:'This is the dialling code for Estonia.',\n",
    "             359:'This is the dialling code for Finland.',\n",
    "             33:'This is the dialling code for France.',\n",
    "            }\n",
    "if code in code_dict.keys():\n",
    "    print(code_dict[code])"
   ]
  },
  {
   "cell_type": "markdown",
   "metadata": {},
   "source": [
    "#### 12) Write a piece of code that reads 6 numbers in a row. Next, show the number of positive values entered. On the next line, print the average of the values to one decimal place. "
   ]
  },
  {
   "cell_type": "code",
   "execution_count": 20,
   "metadata": {},
   "outputs": [
    {
     "name": "stdout",
     "output_type": "stream",
     "text": [
      "Please enter six values, separated by commas: 6,8,9,3,4,6\n",
      "6 positive numbers\n",
      "Average = 6.0\n"
     ]
    }
   ],
   "source": [
    "responses = [float(x) for x in input(\"Please enter six values, separated by commas: \").split(\",\")]\n",
    "\n",
    "pos, total = 0, 0\n",
    "for i in responses:\n",
    "    total += i\n",
    "    if i > 0:\n",
    "        pos += 1\n",
    "print(f\"{pos} positive numbers\")\n",
    "print(f\"Average = {total/6}\")"
   ]
  },
  {
   "cell_type": "markdown",
   "metadata": {},
   "source": [
    "#### 13) Read an integer **N**. Then print the **square of each of the even values**, from 1 to N, including N, if applicable, arranged one per line. "
   ]
  },
  {
   "cell_type": "code",
   "execution_count": 21,
   "metadata": {},
   "outputs": [
    {
     "name": "stdout",
     "output_type": "stream",
     "text": [
      "Please enter a Number N: 12\n",
      "4\n",
      "16\n",
      "36\n",
      "64\n",
      "100\n",
      "144\n"
     ]
    }
   ],
   "source": [
    "N = int(input(\"Please enter a Number N: \"))\n",
    "for i in range(1,N+1):\n",
    "    if i%2==0:\n",
    "        print(i**2)"
   ]
  },
  {
   "cell_type": "markdown",
   "metadata": {},
   "source": [
    "#### 14) Using **input()**, read an integer and print its classification as **'even / odd'** and **'positive / negative'** . The two classes for the number must be printed on the same line separated by a space. In the case of zero, print only **'null'**. "
   ]
  },
  {
   "cell_type": "code",
   "execution_count": 22,
   "metadata": {},
   "outputs": [
    {
     "name": "stdout",
     "output_type": "stream",
     "text": [
      "Please enter any integer: 45\n",
      "odd positive\n"
     ]
    }
   ],
   "source": [
    "number = int(input(\"Please enter any integer: \"))\n",
    "class1 = \"even\" if number%2 == 0 else \"odd\"\n",
    "class2 = \"positive\" if number == abs(number) else \"negative\"\n",
    "if number == 0:\n",
    "    print(\"null\")\n",
    "else:\n",
    "    print(class1, class2)"
   ]
  },
  {
   "cell_type": "markdown",
   "metadata": {},
   "source": [
    "## Challenge\n",
    "#### 15) Ordering problems are recurrent in the history of programming. Over time, several algorithms have been developed to fulfill this function. The simplest of these algorithms is the [**Bubble Sort**](https://en.wikipedia.org/wiki/Bubble_sort), which is based on comparisons of elements two by two in a loop of passes through the elements. Your mission, if you decide to accept it, will be to input six whole numbers ramdonly ordered. Then implement the **Bubble Sort** principle to order these six numbers **using only loops and conditionals**.  \n",
    "#### At the end, print the six numbers in ascending order on a single line separated by spaces. "
   ]
  },
  {
   "cell_type": "code",
   "execution_count": 24,
   "metadata": {},
   "outputs": [
    {
     "name": "stdout",
     "output_type": "stream",
     "text": [
      "Please enter 6 whole numbers sorted randomly, separated by a comma: 5,8,3,6,4,1\n",
      "1 3 4 5 6 8\n"
     ]
    }
   ],
   "source": [
    "numbers = [int(x) for x in input(\"Please enter 6 whole numbers sorted randomly, separated by a comma: \").split(\",\")]\n",
    "changed = True\n",
    "while changed:\n",
    "    changed = False\n",
    "    for i in range(0,len(numbers)-1):\n",
    "        if numbers[i] > numbers[i+1]:\n",
    "            numbers[i],numbers[i+1] = numbers[i+1],numbers[i]\n",
    "            changed = True\n",
    "print(' '.join([str(x) for x in numbers]))"
   ]
  },
  {
   "cell_type": "code",
   "execution_count": null,
   "metadata": {},
   "outputs": [],
   "source": []
  }
 ],
 "metadata": {
  "kernelspec": {
   "display_name": "Python 3",
   "language": "python",
   "name": "python3"
  },
  "language_info": {
   "codemirror_mode": {
    "name": "ipython",
    "version": 3
   },
   "file_extension": ".py",
   "mimetype": "text/x-python",
   "name": "python",
   "nbconvert_exporter": "python",
   "pygments_lexer": "ipython3",
   "version": "3.8.8"
  }
 },
 "nbformat": 4,
 "nbformat_minor": 4
}
